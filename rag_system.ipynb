{
  "nbformat": 4,
  "nbformat_minor": 0,
  "metadata": {
    "colab": {
      "provenance": [],
      "gpuType": "T4",
      "authorship_tag": "ABX9TyNNcntCIuLl5g9uOBx10XtI"
    },
    "kernelspec": {
      "name": "python3",
      "display_name": "Python 3"
    },
    "language_info": {
      "name": "python"
    },
    "accelerator": "GPU"
  },
  "cells": [
    {
      "cell_type": "code",
      "execution_count": 5,
      "metadata": {
        "colab": {
          "base_uri": "https://localhost:8080/"
        },
        "id": "UEElZvXcfow5",
        "outputId": "4300305b-d62f-4f02-b400-d99d3931e94c"
      },
      "outputs": [
        {
          "output_type": "stream",
          "name": "stdout",
          "text": [
            "Requirement already satisfied: python-dotenv in /usr/local/lib/python3.12/dist-packages (1.1.1)\n"
          ]
        }
      ],
      "source": [
        "!pip install chromadb google-generativeai pillow numpy pandas sentence-transformers python-dotenv"
      ]
    },
    {
      "cell_type": "markdown",
      "source": [
        "## Setup and Imports"
      ],
      "metadata": {
        "id": "MJ4bf3hhqQUA"
      }
    },
    {
      "cell_type": "code",
      "source": [
        "import os\n",
        "import base64\n",
        "import io\n",
        "import json\n",
        "from typing import List, Dict, Any, Optional\n",
        "import numpy as np\n",
        "from PIL import Image\n",
        "import google.generativeai as genai\n",
        "import chromadb\n",
        "from chromadb.utils import embedding_functions\n",
        "from sentence_transformers import SentenceTransformer\n",
        "import pandas as pd\n"
      ],
      "metadata": {
        "id": "7_--g8xafte2"
      },
      "execution_count": 8,
      "outputs": []
    },
    {
      "cell_type": "markdown",
      "source": [
        "## Entire RAG configuration\n"
      ],
      "metadata": {
        "id": "W5_zrNB3qI1C"
      }
    },
    {
      "cell_type": "code",
      "source": [
        "from dotenv import load_dotenv\n",
        "import os\n",
        "\n",
        "load_dotenv('/content/drive/MyDrive/api_keys.env')\n",
        "\n",
        "hf_token = os.getenv(\"HF_TOKEN\")\n",
        "gemini_api = os.getenv(\"GEMINI_API_KEY\")\n",
        "\n",
        "class Config:\n",
        "    \"\"\"Configuration class for the RAG system\"\"\"\n",
        "\n",
        "    def __init__(self):\n",
        "        # API Configuration\n",
        "        self.gemini_api_key = gemini_api\n",
        "\n",
        "        # ChromaDB Configuration\n",
        "        self.chroma_db_path = \"./chroma_db\"\n",
        "        self.collection_name = \"cat_health_multimodal\"\n",
        "\n",
        "        self.text_model = \"gemini-1.5-pro\"\n",
        "        self.vision_model = \"gemini-1.5-pro\"\n",
        "        self.embedding_model = \"all-MiniLM-L6-v2\"\n",
        "\n",
        "        self.max_retrieved_docs = 5\n",
        "        self.similarity_threshold = 0.3\n",
        "\n",
        "config = Config()\n",
        "\n",
        "#Gemini Setup\n",
        "genai.configure(api_key=config.gemini_api_key)\n",
        "\n",
        "# Initialize models\n",
        "text_model = genai.GenerativeModel(config.text_model)\n",
        "vision_model = genai.GenerativeModel(config.vision_model)\n",
        "\n",
        "# Initialize embedding model for text\n",
        "embedding_model = SentenceTransformer(config.embedding_model)"
      ],
      "metadata": {
        "colab": {
          "base_uri": "https://localhost:8080/"
        },
        "id": "tnYynjGYhHfq",
        "outputId": "68cbdf0b-5f51-4449-e07a-ab8f56efc458"
      },
      "execution_count": 9,
      "outputs": [
        {
          "output_type": "stream",
          "name": "stderr",
          "text": [
            "/usr/local/lib/python3.12/dist-packages/huggingface_hub/utils/_auth.py:94: UserWarning: \n",
            "The secret `HF_TOKEN` does not exist in your Colab secrets.\n",
            "To authenticate with the Hugging Face Hub, create a token in your settings tab (https://huggingface.co/settings/tokens), set it as secret in your Google Colab and restart your session.\n",
            "You will be able to reuse this secret in all of your notebooks.\n",
            "Please note that authentication is recommended but still optional to access public models or datasets.\n",
            "  warnings.warn(\n"
          ]
        },
        {
          "output_type": "stream",
          "name": "stdout",
          "text": [
            "APIs and models configured successfully!\n"
          ]
        }
      ]
    },
    {
      "cell_type": "markdown",
      "source": [
        "## ChromaDB Setup\n"
      ],
      "metadata": {
        "id": "Qgys-YbBqFh6"
      }
    },
    {
      "cell_type": "code",
      "source": [
        "class MultimodalVectorStore:\n",
        "    \"\"\"Handles vector storage and retrieval for multimodal data\"\"\"\n",
        "\n",
        "    def __init__(self, db_path: str, collection_name: str):\n",
        "        self.client = chromadb.PersistentClient(path=db_path)\n",
        "        self.embedding_function = embedding_functions.SentenceTransformerEmbeddingFunction(\n",
        "            model_name=config.embedding_model\n",
        "        )\n",
        "\n",
        "        # Create or get collection\n",
        "        self.collection = self.client.get_or_create_collection(\n",
        "            name=collection_name,\n",
        "            embedding_function=self.embedding_function,\n",
        "            metadata={\"description\": \"Multimodal cat health knowledge base\"}\n",
        "        )\n",
        "\n",
        "    def add_text_document(self, text: str, metadata: Dict[str, Any], doc_id: str):\n",
        "        \"\"\"Add text document to the vector store\"\"\"\n",
        "        self.collection.add(\n",
        "            documents=[text],\n",
        "            metadatas=[metadata],\n",
        "            ids=[doc_id]\n",
        "        )\n",
        "\n",
        "    def add_image_document(self, image_description: str, image_analysis: str,metadata: Dict[str, Any], doc_id: str):\n",
        "        \"\"\"Add image document (as text description) to the vector store\"\"\"\n",
        "        combined_text = f\"Image Description: {image_description}\\nAnalysis: {image_analysis}\"\n",
        "        metadata.update({\"type\": \"image_analysis\"})\n",
        "\n",
        "        self.collection.add(\n",
        "            documents=[combined_text],\n",
        "            metadatas=[metadata],\n",
        "            ids=[doc_id]\n",
        "        )\n",
        "\n",
        "    def search(self, query: str, n_results: int = 5) -> Dict[str, Any]:\n",
        "        \"\"\"Search for similar documents\"\"\"\n",
        "        results = self.collection.query(\n",
        "            query_texts=[query],\n",
        "            n_results=n_results\n",
        "        )\n",
        "        return results\n",
        "\n",
        "    def get_collection_stats(self):\n",
        "        \"\"\"Get statistics about the collection\"\"\"\n",
        "        return {\n",
        "            \"total_documents\": self.collection.count(),\n",
        "            \"collection_name\": self.collection.name\n",
        "        }\n",
        "\n",
        "# Initialize vector store\n",
        "vector_store = MultimodalVectorStore(config.chroma_db_path, config.collection_name)\n",
        "print(f\"Vector store initialized: {vector_store.get_collection_stats()}\")\n"
      ],
      "metadata": {
        "colab": {
          "base_uri": "https://localhost:8080/"
        },
        "id": "MqGSwdtWmv4g",
        "outputId": "fe7801cf-5e1d-492e-9d76-f519c37962aa"
      },
      "execution_count": 10,
      "outputs": [
        {
          "output_type": "stream",
          "name": "stdout",
          "text": [
            "Vector store initialized: {'total_documents': 0, 'collection_name': 'cat_health_multimodal'}\n"
          ]
        }
      ]
    },
    {
      "cell_type": "markdown",
      "source": [
        "## Image Processing Pipeline"
      ],
      "metadata": {
        "id": "BDy0ckqTrBFr"
      }
    },
    {
      "cell_type": "code",
      "source": [
        "def encode_image_to_base64(image_path: str) -> str:\n",
        "    \"\"\"Convert image file to base64 string\"\"\"\n",
        "    with open(image_path, \"rb\") as image_file:\n",
        "        return base64.b64encode(image_file.read()).decode('utf-8')\n",
        "\n",
        "def pil_image_to_base64(image: Image.Image) -> str:\n",
        "    \"\"\"Convert PIL Image to base64 string\"\"\"\n",
        "    buffered = io.BytesIO()\n",
        "    image.save(buffered, format=\"JPEG\")\n",
        "    return base64.b64encode(buffered.getvalue()).decode('utf-8')\n",
        "\n",
        "def analyze_cat_image(image_path: str) -> Dict[str, str]:\n",
        "    \"\"\"Analyze cat image using Gemini Vision API\"\"\"\n",
        "\n",
        "    # Load and prepare image\n",
        "    image = Image.open(image_path)\n",
        "\n",
        "    # Prepare prompt for cat health analysis\n",
        "    prompt = \"\"\"\n",
        "    You are a veterinary expert analyzing this cat image. Please provide:\n",
        "\n",
        "    1. Physical Description: Describe the cat's appearance, breed characteristics, and any visible features\n",
        "    2. Health Assessment: Note any visible signs that might indicate health issues including:\n",
        "       - Eyes (clarity, discharge, color)\n",
        "       - Nose (discharge, color)\n",
        "       - Coat condition (shine, thickness, patches)\n",
        "       - Body posture and positioning\n",
        "       - Visible wounds, swelling, or abnormalities\n",
        "       - Behavioral indicators visible in the image\n",
        "    3. Potential Concerns: List any potential health concerns based on visual cues\n",
        "    4. Recommendations: Suggest when veterinary consultation might be needed\n",
        "\n",
        "    Be thorough but note that this is not a substitute for professional veterinary examination.\n",
        "    \"\"\"\n",
        "\n",
        "    try:\n",
        "        response = vision_model.generate_content([prompt, image])\n",
        "        return {\n",
        "            \"analysis\": response.text,\n",
        "            \"status\": \"success\"\n",
        "        }\n",
        "    except Exception as e:\n",
        "        return {\n",
        "            \"analysis\": f\"Error analyzing image: {str(e)}\",\n",
        "            \"status\": \"error\"\n",
        "        }"
      ],
      "metadata": {
        "id": "t66O0IaYrC3Y"
      },
      "execution_count": 11,
      "outputs": []
    },
    {
      "cell_type": "markdown",
      "source": [
        "## RAG System Setup"
      ],
      "metadata": {
        "id": "eshLj_IvrW1_"
      }
    },
    {
      "cell_type": "code",
      "source": [
        "class CatHealthRAG:\n",
        "    \"\"\"Main RAG system for cat health analysis\"\"\"\n",
        "\n",
        "    def __init__(self, vector_store: MultimodalVectorStore):\n",
        "        self.vector_store = vector_store\n",
        "\n",
        "    def add_knowledge_base_entry(self, content: str, source_type: str,\n",
        "                                category: str, doc_id: str):\n",
        "        \"\"\"Add entry to the knowledge base\"\"\"\n",
        "        metadata = {\n",
        "            \"source_type\": source_type,\n",
        "            \"category\": category,\n",
        "            \"timestamp\": pd.Timestamp.now().isoformat()\n",
        "        }\n",
        "\n",
        "        self.vector_store.add_text_document(content, metadata, doc_id)\n",
        "\n",
        "    def add_cat_image_analysis(self, image_path: str, doc_id: str,\n",
        "                              additional_info: str = \"\"):\n",
        "        \"\"\"Add cat image analysis to knowledge base\"\"\"\n",
        "\n",
        "        # Analyze image\n",
        "        analysis_result = analyze_cat_image(image_path)\n",
        "\n",
        "        if analysis_result[\"status\"] == \"success\":\n",
        "            # Create description for embedding\n",
        "            image_desc = f\"Cat image analysis with additional context: {additional_info}\"\n",
        "\n",
        "            metadata = {\n",
        "                \"source_type\": \"image_analysis\",\n",
        "                \"category\": \"visual_assessment\",\n",
        "                \"image_path\": image_path,\n",
        "                \"timestamp\": pd.Timestamp.now().isoformat()\n",
        "            }\n",
        "\n",
        "            self.vector_store.add_image_document(\n",
        "                image_desc,\n",
        "                analysis_result[\"analysis\"],\n",
        "                metadata,\n",
        "                doc_id\n",
        "            )\n",
        "\n",
        "            return analysis_result[\"analysis\"]\n",
        "        else:\n",
        "            print(f\"Failed to analyze image: {analysis_result['analysis']}\")\n",
        "            return None\n",
        "\n",
        "    def query_multimodal(self, query_text: str, image_path: Optional[str] = None,\n",
        "                        max_results: int = 5) -> str:\n",
        "        \"\"\"Query the RAG system with text and optionally an image\"\"\"\n",
        "\n",
        "        # Prepare context from query\n",
        "        context_parts = [f\"User Query: {query_text}\"]\n",
        "\n",
        "        # If image provided, analyze it\n",
        "        if image_path:\n",
        "            image_analysis = analyze_cat_image(image_path)\n",
        "            if image_analysis[\"status\"] == \"success\":\n",
        "                context_parts.append(f\"Current Image Analysis: {image_analysis['analysis']}\")\n",
        "\n",
        "                # Use image analysis to enhance search query\n",
        "                enhanced_query = f\"{query_text} {image_analysis['analysis'][:200]}\"\n",
        "            else:\n",
        "                enhanced_query = query_text\n",
        "        else:\n",
        "            enhanced_query = query_text\n",
        "\n",
        "        # Search knowledge base\n",
        "        search_results = self.vector_store.search(enhanced_query, max_results)\n",
        "\n",
        "        # Prepare retrieved context\n",
        "        retrieved_docs = []\n",
        "        if search_results['documents'] and search_results['documents'][0]:\n",
        "            for i, doc in enumerate(search_results['documents'][0]):\n",
        "                metadata = search_results['metadatas'][0][i]\n",
        "                retrieved_docs.append(f\"Source {i+1} ({metadata.get('category', 'unknown')}): {doc}\")\n",
        "\n",
        "        system_prompt = \"\"\"\n",
        "        You are an expert veterinary assistant helping with cat health analysis.\n",
        "        Use the provided context from the knowledge base and any image analysis to give\n",
        "        comprehensive, helpful advice about potential cat health issues.\n",
        "\n",
        "        IMPORTANT: Always recommend consulting with a veterinarian for proper diagnosis\n",
        "        and treatment. Your role is to provide initial insights and guidance.\n",
        "        \"\"\"\n",
        "\n",
        "        user_prompt = f\"\"\"\n",
        "        {system_prompt}\n",
        "\n",
        "        Context from Knowledge Base:\n",
        "        {chr(10).join(retrieved_docs) if retrieved_docs else \"No relevant documents found.\"}\n",
        "\n",
        "        Current Query and Analysis:\n",
        "        {chr(10).join(context_parts)}\n",
        "\n",
        "        Please provide a comprehensive response addressing:\n",
        "        1. Analysis of the situation based on available information\n",
        "        2. Possible health concerns or issues\n",
        "        3. Immediate care recommendations if applicable\n",
        "        4. When to seek veterinary care\n",
        "        5. Preventive measures or monitoring suggestions\n",
        "\n",
        "        Response:\n",
        "        \"\"\"\n",
        "\n",
        "        try:\n",
        "            response = text_model.generate_content(user_prompt)\n",
        "            return response.text\n",
        "        except Exception as e:\n",
        "            return f\"Error generating response: {str(e)}\"\n",
        "\n",
        "# Initialize RAG system\n",
        "rag_system = CatHealthRAG(vector_store)\n",
        ""
      ],
      "metadata": {
        "id": "UE2hzjUjrNpb"
      },
      "execution_count": 15,
      "outputs": []
    },
    {
      "cell_type": "markdown",
      "source": [
        "##Populating the Knowledge Base"
      ],
      "metadata": {
        "id": "6Ppn5RaWsg3L"
      }
    },
    {
      "cell_type": "code",
      "source": [
        "def initialize_knowledge_base():\n",
        "    \"\"\"Initialize knowledge base with sample cat health information\"\"\"\n",
        "\n",
        "    sample_knowledge = [\n",
        "        {\n",
        "            \"content\": \"Common eye issues in cats include conjunctivitis (pink eye), which causes redness, discharge, and squinting. Clear discharge usually indicates allergies or irritation, while thick yellow or green discharge suggests bacterial infection requiring antibiotic treatment.\",\n",
        "            \"category\": \"eye_health\",\n",
        "            \"doc_id\": \"eye_health_001\"\n",
        "        },\n",
        "        {\n",
        "            \"content\": \"Upper respiratory infections in cats often present with nasal discharge, sneezing, and congestion. Clear nasal discharge may indicate viral infection, while thick colored discharge suggests secondary bacterial infection. Cats may also show reduced appetite and lethargy.\",\n",
        "            \"category\": \"respiratory_health\",\n",
        "            \"doc_id\": \"respiratory_001\"\n",
        "        },\n",
        "        {\n",
        "            \"content\": \"Healthy cat coat should be shiny, smooth, and free of bald patches. Dull, brittle, or patchy fur can indicate nutritional deficiencies, stress, parasites, or underlying health issues. Excessive shedding or matting may also signal problems.\",\n",
        "            \"category\": \"coat_health\",\n",
        "            \"doc_id\": \"coat_health_001\"\n",
        "        },\n",
        "        {\n",
        "            \"content\": \"Signs of pain or discomfort in cats include changes in posture (hunched back, reluctance to move), hiding behavior, changes in eating habits, vocalization changes, and altered grooming patterns. Cats often hide pain well, so subtle changes are important.\",\n",
        "            \"category\": \"pain_indicators\",\n",
        "            \"doc_id\": \"pain_001\"\n",
        "        },\n",
        "        {\n",
        "            \"content\": \"Dental issues in cats can cause bad breath, drooling, difficulty eating, and pawing at the mouth. Yellow or brown tartar buildup on teeth and red, swollen gums indicate dental disease requiring professional cleaning and treatment.\",\n",
        "            \"category\": \"dental_health\",\n",
        "            \"doc_id\": \"dental_001\"\n",
        "        },\n",
        "        {\n",
        "            \"content\": \"Skin conditions in cats may present as red, inflamed areas, excessive scratching, hair loss, or unusual lumps. Common causes include allergies, parasites (fleas, mites), bacterial or fungal infections, and autoimmune conditions.\",\n",
        "            \"category\": \"skin_health\",\n",
        "            \"doc_id\": \"skin_001\"\n",
        "        }\n",
        "    ]\n",
        "\n",
        "    for item in sample_knowledge:\n",
        "        rag_system.add_knowledge_base_entry(\n",
        "            content=item[\"content\"],\n",
        "            source_type=\"reference_material\",\n",
        "            category=item[\"category\"],\n",
        "            doc_id=item[\"doc_id\"]\n",
        "        )\n",
        "\n",
        "    print(f\"Knowledge base initialized with {len(sample_knowledge)} entries\")\n",
        "\n",
        "# Initialize the knowledge base\n",
        "initialize_knowledge_base()"
      ],
      "metadata": {
        "colab": {
          "base_uri": "https://localhost:8080/"
        },
        "id": "jZK65BadsixF",
        "outputId": "7bdd5066-b15a-4421-957d-1296113d7494"
      },
      "execution_count": 17,
      "outputs": [
        {
          "output_type": "stream",
          "name": "stdout",
          "text": [
            "Knowledge base initialized with 6 entries\n"
          ]
        }
      ]
    },
    {
      "cell_type": "markdown",
      "source": [
        "## Some Examples and Usage"
      ],
      "metadata": {
        "id": "A3xpVhuxs99t"
      }
    },
    {
      "cell_type": "code",
      "source": [
        "def example_usage():\n",
        "    \"\"\"Demonstrate how to use the RAG system\"\"\"\n",
        "\n",
        "    print(\"=\" * 60)\n",
        "    print(\"CAT HEALTH RAG SYSTEM - USAGE EXAMPLES\")\n",
        "    print(\"=\" * 60)\n",
        "\n",
        "    # Example 1: Text-only query\n",
        "    print(\"\\n1. TEXT-ONLY QUERY EXAMPLE\")\n",
        "    print(\"-\" * 30)\n",
        "\n",
        "    text_query = \"My cat has been sneezing and has watery eyes. What could be wrong?\"\n",
        "    response = rag_system.query_multimodal(text_query)\n",
        "    print(f\"Query: {text_query}\")\n",
        "    print(f\"Response: {response[:500]}...\")\n",
        "\n",
        "    # Example 2: Adding image analysis (you'll need to provide image path)\n",
        "    print(\"\\n2. IMAGE ANALYSIS EXAMPLE\")\n",
        "    print(\"-\" * 30)\n",
        "    print(\"To analyze an image, use:\")\n",
        "    print(\"image_path = '/path/to/your/cat/image.jpg'\")\n",
        "    print(\"analysis = rag_system.add_cat_image_analysis(image_path, 'my_cat_001', 'Cat seems lethargic')\")\n",
        "    print(\"response = rag_system.query_multimodal('What health issues do you see?', image_path)\")\n",
        "\n",
        "    # Example 3: Adding custom knowledge\n",
        "    print(\"\\n3. ADDING CUSTOM KNOWLEDGE\")\n",
        "    print(\"-\" * 30)\n",
        "    custom_knowledge = \"My cat Whiskers tends to hide under the bed when feeling unwell. This is her specific stress response pattern.\"\n",
        "    rag_system.add_knowledge_base_entry(\n",
        "        content=custom_knowledge,\n",
        "        source_type=\"personal_observation\",\n",
        "        category=\"behavioral_patterns\",\n",
        "        doc_id=\"whiskers_behavior_001\"\n",
        "    )\n",
        "    print(\"Added custom knowledge about Whiskers' behavior patterns\")\n",
        "\n",
        "    # Show collection stats\n",
        "    print(f\"\\n4. KNOWLEDGE BASE STATISTICS\")\n",
        "    print(\"-\" * 30)\n",
        "    stats = vector_store.get_collection_stats()\n",
        "    print(f\"Total documents in knowledge base: {stats['total_documents']}\")\n"
      ],
      "metadata": {
        "id": "iOgXa1xhs1JF"
      },
      "execution_count": 18,
      "outputs": []
    },
    {
      "cell_type": "markdown",
      "source": [
        "## Some Interactive and Intuitive functions"
      ],
      "metadata": {
        "id": "uWlE2fl2tGvd"
      }
    },
    {
      "cell_type": "code",
      "source": [
        "def analyze_single_image(image_path: str, additional_context: str = \"\"):\n",
        "    \"\"\"Analyze a single cat image\"\"\"\n",
        "\n",
        "    print(f\"Analyzing image: {image_path}\")\n",
        "    analysis = rag_system.add_cat_image_analysis(\n",
        "        image_path,\n",
        "        f\"analysis_{pd.Timestamp.now().strftime('%Y%m%d_%H%M%S')}\",\n",
        "        additional_context\n",
        "    )\n",
        "\n",
        "    if analysis:\n",
        "        print(\"Analysis completed:\")\n",
        "        print(analysis)\n",
        "    else:\n",
        "        print(\"Failed to analyze image\")\n",
        "\n",
        "def ask_health_question(question: str, image_path: str = None):\n",
        "    \"\"\"Ask a health question with optional image\"\"\"\n",
        "\n",
        "    print(f\"Question: {question}\")\n",
        "    if image_path:\n",
        "        print(f\"With image: {image_path}\")\n",
        "\n",
        "    response = rag_system.query_multimodal(question, image_path)\n",
        "    print(f\"Response:\\n{response}\")\n",
        "\n",
        "    return response\n",
        "\n",
        "def add_personal_knowledge(content: str, category: str):\n",
        "    \"\"\"Add personal knowledge about your cat\"\"\"\n",
        "\n",
        "    doc_id = f\"personal_{category}_{pd.Timestamp.now().strftime('%Y%m%d_%H%M%S')}\"\n",
        "    rag_system.add_knowledge_base_entry(\n",
        "        content=content,\n",
        "        source_type=\"personal_knowledge\",\n",
        "        category=category,\n",
        "        doc_id=doc_id\n",
        "    )\n",
        "    print(f\"Added personal knowledge to category: {category}\")"
      ],
      "metadata": {
        "id": "gKaaGkzhtMdm"
      },
      "execution_count": 19,
      "outputs": []
    },
    {
      "cell_type": "code",
      "source": [
        "if __name__ == \"__main__\":\n",
        "    example_usage()\n",
        "\n",
        "    print(\"\\n\" + \"=\" * 60)\n",
        "    print(\"READY TO USE!\")\n",
        "    print(\"=\" * 60)\n",
        "    print(\"\\nThe cat health RAG system is now functioning.\")\n",
        "    print(\"\\nQuick start guide:\")\n",
        "    print(\"1. Replace 'YOUR_GEMINI_API_KEY_HERE' with your actual Gemini API key\")\n",
        "    print(\"2. Use ask_health_question() for text queries\")\n",
        "    print(\"3. Use analyze_single_image() to analyze cat photos\")\n",
        "    print(\"4. Use add_personal_knowledge() to add information about your specific cat\")\n",
        "\n",
        "    print(\"\\nExample commands:\")\n",
        "    print(\"ask_health_question('My cat is not eating well')\")\n",
        "    print(\"analyze_single_image('/path/to/cat/photo.jpg')\")\n",
        "    print(\"add_personal_knowledge('My cat loves hiding in boxes when sick', 'behavior')\")\n"
      ],
      "metadata": {
        "colab": {
          "base_uri": "https://localhost:8080/",
          "height": 749
        },
        "id": "gY5MZsuYtP7B",
        "outputId": "ec02dd0d-1d55-4ea5-e8f8-db865ddd4dce"
      },
      "execution_count": 21,
      "outputs": [
        {
          "output_type": "stream",
          "name": "stdout",
          "text": [
            "============================================================\n",
            "CAT HEALTH RAG SYSTEM - USAGE EXAMPLES\n",
            "============================================================\n",
            "\n",
            "1. TEXT-ONLY QUERY EXAMPLE\n",
            "------------------------------\n"
          ]
        },
        {
          "output_type": "stream",
          "name": "stderr",
          "text": [
            "WARNING:tornado.access:429 POST /v1beta/models/gemini-1.5-pro:generateContent?%24alt=json%3Benum-encoding%3Dint (127.0.0.1) 705.25ms\n"
          ]
        },
        {
          "output_type": "stream",
          "name": "stdout",
          "text": [
            "Query: My cat has been sneezing and has watery eyes. What could be wrong?\n",
            "Response: Error generating response: 429 POST https://generativelanguage.googleapis.com/v1beta/models/gemini-1.5-pro:generateContent?%24alt=json%3Benum-encoding%3Dint: You exceeded your current quota, please check your plan and billing details. For more information on this error, head to: https://ai.google.dev/gemini-api/docs/rate-limits....\n",
            "\n",
            "2. IMAGE ANALYSIS EXAMPLE\n",
            "------------------------------\n",
            "To analyze an image, use:\n",
            "image_path = '/path/to/your/cat/image.jpg'\n",
            "analysis = rag_system.add_cat_image_analysis(image_path, 'my_cat_001', 'Cat seems lethargic')\n",
            "response = rag_system.query_multimodal('What health issues do you see?', image_path)\n",
            "\n",
            "3. ADDING CUSTOM KNOWLEDGE\n",
            "------------------------------\n",
            "Added custom knowledge about Whiskers' behavior patterns\n",
            "\n",
            "4. KNOWLEDGE BASE STATISTICS\n",
            "------------------------------\n",
            "Total documents in knowledge base: 7\n",
            "\n",
            "============================================================\n",
            "READY TO USE!\n",
            "============================================================\n",
            "\n",
            "The cat heatlth RAG system is now functioning.\n",
            "\n",
            "Quick start guide:\n",
            "1. Replace 'YOUR_GEMINI_API_KEY_HERE' with your actual Gemini API key\n",
            "2. Use ask_health_question() for text queries\n",
            "3. Use analyze_single_image() to analyze cat photos\n",
            "4. Use add_personal_knowledge() to add information about your specific cat\n",
            "\n",
            "Example commands:\n",
            "ask_health_question('My cat is not eating well')\n",
            "analyze_single_image('/path/to/cat/photo.jpg')\n",
            "add_personal_knowledge('My cat loves hiding in boxes when sick', 'behavior')\n"
          ]
        }
      ]
    },
    {
      "cell_type": "markdown",
      "source": [
        "## Some additional helper functions"
      ],
      "metadata": {
        "id": "m9dnhq2zyGWJ"
      }
    },
    {
      "cell_type": "code",
      "source": [
        "def batch_analyze_images(image_folder: str):\n",
        "    \"\"\"Analyze multiple images in a folder\"\"\"\n",
        "    import glob\n",
        "\n",
        "    image_extensions = ['*.jpg', '*.jpeg', '*.png', '*.gif', '*.bmp']\n",
        "    image_files = []\n",
        "\n",
        "    for ext in image_extensions:\n",
        "        image_files.extend(glob.glob(os.path.join(image_folder, ext)))\n",
        "        image_files.extend(glob.glob(os.path.join(image_folder, ext.upper())))\n",
        "\n",
        "    results = {}\n",
        "    for i, image_path in enumerate(image_files):\n",
        "        print(f\"Processing image {i+1}/{len(image_files)}: {os.path.basename(image_path)}\")\n",
        "        doc_id = f\"batch_analysis_{i+1}_{pd.Timestamp.now().strftime('%Y%m%d_%H%M%S')}\"\n",
        "        analysis = rag_system.add_cat_image_analysis(image_path, doc_id)\n",
        "        results[image_path] = analysis\n",
        "\n",
        "    return results\n",
        "\n",
        "def export_knowledge_base():\n",
        "    \"\"\"Export current knowledge base to JSON\"\"\"\n",
        "\n",
        "    # Get all documents from ChromaDB\n",
        "    all_docs = vector_store.collection.get()\n",
        "\n",
        "    export_data = {\n",
        "        \"collection_name\": vector_store.collection.name,\n",
        "        \"export_timestamp\": pd.Timestamp.now().isoformat(),\n",
        "        \"documents\": []\n",
        "    }\n",
        "\n",
        "    for i in range(len(all_docs['ids'])):\n",
        "        doc_data = {\n",
        "            \"id\": all_docs['ids'][i],\n",
        "            \"document\": all_docs['documents'][i],\n",
        "            \"metadata\": all_docs['metadatas'][i] if all_docs['metadatas'] else {}\n",
        "        }\n",
        "        export_data[\"documents\"].append(doc_data)\n",
        "\n",
        "    # Save to file\n",
        "    export_filename = f\"cat_health_kb_export_{pd.Timestamp.now().strftime('%Y%m%d_%H%M%S')}.json\"\n",
        "    with open(export_filename, 'w') as f:\n",
        "        json.dump(export_data, f, indent=2)\n",
        "\n",
        "    print(f\"Knowledge base exported to: {export_filename}\")\n",
        "    return export_filename\n",
        "\n",
        "print(\"Your multimodal cat health RAG system is ready to use!\")"
      ],
      "metadata": {
        "colab": {
          "base_uri": "https://localhost:8080/"
        },
        "id": "y1ZovdWfyIQP",
        "outputId": "6b852d8f-22c6-4562-98a4-b4eaf1668c8c"
      },
      "execution_count": 22,
      "outputs": [
        {
          "output_type": "stream",
          "name": "stdout",
          "text": [
            "Your multimodal cat health RAG system is ready to use!\n"
          ]
        }
      ]
    }
  ]
}